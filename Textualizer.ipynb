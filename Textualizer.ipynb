{
 "cells": [
  {
   "cell_type": "markdown",
   "metadata": {},
   "source": [
    "# Import the Required Modules"
   ]
  },
  {
   "cell_type": "code",
   "execution_count": 3,
   "metadata": {},
   "outputs": [],
   "source": [
    "import cv2\n",
    "import PIL\n",
    "import numpy as np\n",
    "import tkinter as tk\n",
    "import os\n",
    "import imutils\n",
    "from imutils.contours import sort_contours\n",
    "from tkinter import filedialog\n",
    "from keras.models import load_model"
   ]
  },
  {
   "cell_type": "markdown",
   "metadata": {},
   "source": [
    "# Application"
   ]
  },
  {
   "cell_type": "code",
   "execution_count": null,
   "metadata": {},
   "outputs": [],
   "source": [
    "#Load the GUI\n",
    "root = tk.Tk()\n",
    "root.withdraw()\n",
    "\n",
    "def GetPaths():\n",
    "    seed_folder = r\"C:\\Users\\Dell\\OneDrive\\Desktop\"\n",
    "\n",
    "    #Using tkinter we ask for the file path & where is should stored\n",
    "    img_path = filedialog.askopenfilename(initialdir = seed_folder, title = \"Select the image to be textualized\", filetypes = [(\"image\",\".jpg .jpeg .png\")])\n",
    "    save_folder_path = filedialog.askdirectory(initialdir = seed_folder, title = \"Select a folder to save processed image\")\n",
    "\n",
    "    return img_path, save_folder_path\n",
    "\n",
    "#Load the Image and Save Folder from User\n",
    "img_path, save_folder_path = GetPaths()\n",
    "\n",
    "#Load the Model\n",
    "model = load_model('handwriting.model')\n",
    "\n",
    "# Load Image\n",
    "image = cv2.imread(img_path)\n",
    "gray = cv2.cvtColor(image, cv2.COLOR_BGR2GRAY)\n",
    "blurred = cv2.GaussianBlur(gray, (5, 5), 0)\n",
    "\n",
    "# Detect contours and sort from left to right\n",
    "edged = cv2.Canny(blurred, 30, 150)\n",
    "cnts = cv2.findContours(edged.copy(), cv2.RETR_EXTERNAL,cv2.CHAIN_APPROX_SIMPLE)\n",
    "cnts = imutils.grab_contours(cnts)\n",
    "cnts = sort_contours(cnts, method=\"left-to-right\")[0]\n",
    "\n",
    "# Contour Processing\n",
    "chars = []\n",
    "for c in cnts:\n",
    "\t# Identify the bounding box of the contours\n",
    "\t(x, y, w, h) = cv2.boundingRect(c)\n",
    "\tif (w >= 20 and w <= 150) and (h >= 40 and h <= 120):\n",
    "\t\troi = gray[y:y + h, x:x + w]\n",
    "\t\tthresh = cv2.threshold(roi, 0, 255,cv2.THRESH_BINARY_INV | cv2.THRESH_OTSU)[1]\n",
    "\t\t(tH, tW) = thresh.shape\n",
    "\n",
    "\t\t# Resize\n",
    "\t\tif tW > tH:\n",
    "\t\t\tthresh = imutils.resize(thresh, width=32)\n",
    "\t\telse:\n",
    "\t\t\tthresh = imutils.resize(thresh, height=32)\n",
    "\n",
    "\t\t# Pad the Image\n",
    "\t\t(tH, tW) = thresh.shape\n",
    "\t\tdX = int(max(0, 32 - tW) / 2.0)\n",
    "\t\tdY = int(max(0, 32 - tH) / 2.0)\n",
    "\t\tpadded = cv2.copyMakeBorder(thresh, top=dY, bottom=dY,left=dX, right=dX, borderType=cv2.BORDER_CONSTANT,value=(0, 0, 0))\n",
    "\t\tpadded = cv2.resize(padded, (32, 32))\n",
    "\n",
    "\t\t# Process Padded Image\n",
    "\t\tpadded = padded.astype(\"float32\") / 255.0\n",
    "\t\tpadded = np.expand_dims(padded, axis=-1)\n",
    "\t\tchars.append((padded, (x, y, w, h)))\n",
    "boxes = [b[1] for b in chars]\n",
    "\n",
    "# Perform OCR\n",
    "chars = np.array([c[0] for c in chars], dtype=\"float32\")\n",
    "preds = model.predict(chars)\n",
    "\n",
    "# Decode Labels\n",
    "labelNames = \"0123456789ABCDEFGHIJKLMNOPQRSTUVWXYZ\"\n",
    "labelNames = [l for l in labelNames]\n",
    "for (pred, (x, y, w, h)) in zip(preds, boxes):\n",
    "    i = np.argmax(pred)\n",
    "    prob = pred[i]\n",
    "    label = labelNames[i]\n",
    "\n",
    "    # Draw the prediction on Screen\n",
    "    cv2.rectangle(image, (x, y), (x + w, y + h), (0, 255, 0), 2)\n",
    "    cv2.putText(image, label, (x - 10, y - 10),cv2.FONT_HERSHEY_SIMPLEX, 1.2, (0, 255, 0), 2)\n",
    "\n",
    "# Display the Image\n",
    "cv2.imshow(\"Textualizer_Processed.jpg\",image)\n",
    "cv2.waitKey(0)\n",
    "\n",
    "#Save the Image           \n",
    "cv2.imwrite(save_folder_path + \"_Processed.jpg\", image)"
   ]
  }
 ],
 "metadata": {
  "kernelspec": {
   "display_name": "Python 3",
   "language": "python",
   "name": "python3"
  },
  "language_info": {
   "codemirror_mode": {
    "name": "ipython",
    "version": 3
   },
   "file_extension": ".py",
   "mimetype": "text/x-python",
   "name": "python",
   "nbconvert_exporter": "python",
   "pygments_lexer": "ipython3",
   "version": "3.8.5"
  }
 },
 "nbformat": 4,
 "nbformat_minor": 4
}
